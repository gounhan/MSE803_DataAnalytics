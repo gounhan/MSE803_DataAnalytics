import pandas as pd
import numpy as np
import matplotlib.pyplot as plt
import seaborn as sns

# 1. Load the dataset
file_path = "House_Data(in).csv"
df = pd.read_csv(file_path)

# 2. Data Cleaning
# Check for null values
print("Missing Values:")
print(df.isnull().sum())

# Remove duplicates
df = df.drop_duplicates()

# Handle missing values
# Drop 'society' column as it has too many missing values
df = df.drop(columns=['society'])

# Fill missing 'size' values with the most frequent value
df['size'] = df['size'].fillna(df['size'].mode()[0])

# Fill missing 'bath' and 'balcony' with median values
df['bath'] = df['bath'].fillna(df['bath'].median())
df['balcony'] = df['balcony'].fillna(df['balcony'].median())

# Drop rows with missing 'site_location'
df = df.dropna(subset=['site_location'])

# Detect and handle outliers using IQR method
def remove_outliers_iqr(df, column):
    Q1 = df[column].quantile(0.25)
    Q3 = df[column].quantile(0.75)
    IQR = Q3 - Q1
    lower_bound = Q1 - 1.5 * IQR
    upper_bound = Q3 + 1.5 * IQR
    return df[(df[column] >= lower_bound) & (df[column] <= upper_bound)]

# Apply IQR method to 'bath' and 'price'
df = remove_outliers_iqr(df, 'bath')
df = remove_outliers_iqr(df, 'price')

# Using Boxplot to visually identify outliers
plt.figure(figsize=(10, 5))
sns.boxplot(data=df[['bath', 'price', 'balcony']])
plt.title("Boxplot of Numerical Features After IQR Filtering")
plt.show()

# Using Scatter Plot to visually identify outliers
plt.figure(figsize=(10, 5))
sns.scatterplot(x=df['bath'], y=df['price'], alpha=0.6)
plt.xlabel("Number of Bathrooms")
plt.ylabel("Price")
plt.title("Scatter Plot of Price vs. Bathrooms After IQR Filtering")
plt.show()

# Display cleaned dataset
print("Cleaned Data:")
print(df.head())
